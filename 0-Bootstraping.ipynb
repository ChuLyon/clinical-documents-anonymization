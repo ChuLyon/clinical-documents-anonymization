{
 "cells": [
  {
   "cell_type": "code",
   "execution_count": null,
   "id": "c83dead3-e492-4aa3-b645-343c34b661ec",
   "metadata": {},
   "outputs": [],
   "source": [
    "from tqdm.auto import tqdm\n",
    "import random, json\n",
    "\n",
    "# setup seed to reproduce results\n",
    "random.seed(42)\n",
    "\n",
    "with open(\"data/data-for-trf.json\", \"r\", encoding=\"utf-8\") as f:\n",
    "    idsselected = []\n",
    "    print(\"loading json...\")\n",
    "    jsonfile = json.load(f)\n",
    "    print(\"json loaded\")\n",
    "\n",
    "    # randomly draw data from raw dataset to build train dataset\n",
    "    data = []\n",
    "    while len(data) != len(jsonfile):\n",
    "        datum = random.choice(jsonfile)\n",
    "        if not (datum[\"id\"] in idsselected):\n",
    "            idsselected.append(datum[\"id\"])\n",
    "        data.append(datum)\n",
    "    with open(\"data/data-for-trf-train.json\", \"w\", encoding=\"utf-8\") as trainfile:\n",
    "        json.dump(data, trainfile, ensure_ascii=False, indent=4)\n",
    "    print(\"Number of data in train dataset (without counting duplicates):\", len(idsselected))\n",
    "\n",
    "    # get data not included into the train dataset to build validation dataset\n",
    "    data = [datum for datum in tqdm(jsonfile) if not (datum[\"id\"] in idsselected)]\n",
    "    with open(\"data/data-for-trf-validation.json\", \"w\", encoding=\"utf-8\") as validfile:\n",
    "        json.dump(data, validfile, ensure_ascii=False, indent=4)\n",
    "    print(\"Number of data in validation dataset:\", len(data))"
   ]
  }
 ],
 "metadata": {
  "kernelspec": {
   "display_name": "Python 3 (ipykernel)",
   "language": "python",
   "name": "python3"
  },
  "language_info": {
   "codemirror_mode": {
    "name": "ipython",
    "version": 3
   },
   "file_extension": ".py",
   "mimetype": "text/x-python",
   "name": "python",
   "nbconvert_exporter": "python",
   "pygments_lexer": "ipython3",
   "version": "3.7.2"
  }
 },
 "nbformat": 4,
 "nbformat_minor": 5
}
